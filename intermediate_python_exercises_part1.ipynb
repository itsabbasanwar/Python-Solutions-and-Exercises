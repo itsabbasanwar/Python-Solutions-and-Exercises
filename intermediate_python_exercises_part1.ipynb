{
 "cells": [
  {
   "cell_type": "markdown",
   "id": "cb02088c-abe0-4143-b2c0-2a216af574d7",
   "metadata": {},
   "source": [
    "1. Sum of Numbers in a List\n",
    "Problem: Write a function that takes a list of numbers and returns the sum of all numbers."
   ]
  },
  {
   "cell_type": "code",
   "execution_count": 1,
   "id": "3614ce4c-4c1f-4247-a139-6d6f0ad33294",
   "metadata": {},
   "outputs": [
    {
     "name": "stdout",
     "output_type": "stream",
     "text": [
      "15\n"
     ]
    }
   ],
   "source": [
    "def sum_of_list(numbers):\n",
    "    return sum(numbers)\n",
    "\n",
    "# Test\n",
    "print(sum_of_list([1, 2, 3, 4, 5]))  # Output: 15\n"
   ]
  },
  {
   "cell_type": "markdown",
   "id": "951afc7f-f56e-49cf-ad4a-7f3689bd7ca9",
   "metadata": {},
   "source": [
    "2. Count Words in a String\n",
    "Problem: Write a function that takes a string and returns the number of words."
   ]
  },
  {
   "cell_type": "code",
   "execution_count": 2,
   "id": "01b41974-7104-4cc2-9de6-d8c5bb6230b3",
   "metadata": {},
   "outputs": [
    {
     "name": "stdout",
     "output_type": "stream",
     "text": [
      "5\n"
     ]
    }
   ],
   "source": [
    "def count_words(sentence):\n",
    "    return len(sentence.split())\n",
    "\n",
    "# Test\n",
    "print(count_words(\"Python is fun to learn\"))  # Output: 5\n"
   ]
  },
  {
   "cell_type": "markdown",
   "id": "39786329-836b-4c7d-bf71-a025138c4978",
   "metadata": {},
   "source": [
    "3. Find Duplicates in a List\n",
    "Problem: Write a function that identifies duplicate elements in a list."
   ]
  },
  {
   "cell_type": "code",
   "execution_count": 3,
   "id": "c89cf3f4-fa07-4b79-b8e8-bcb2cdb70454",
   "metadata": {},
   "outputs": [
    {
     "name": "stdout",
     "output_type": "stream",
     "text": [
      "[2, 3]\n"
     ]
    }
   ],
   "source": [
    "def find_duplicates(items):\n",
    "    seen = set()\n",
    "    duplicates = set()\n",
    "    for item in items:\n",
    "        if item in seen:\n",
    "            duplicates.add(item)\n",
    "        else:\n",
    "            seen.add(item)\n",
    "    return list(duplicates)\n",
    "\n",
    "# Test\n",
    "print(find_duplicates([1, 2, 3, 4, 3, 2, 5]))  # Output: [2, 3]\n"
   ]
  },
  {
   "cell_type": "markdown",
   "id": "db7e3c4a-965b-45e8-ab99-75bb26b419bb",
   "metadata": {},
   "source": [
    "4. Check for Palindrome\n",
    "Problem: Write a function that checks if a string is a palindrome (reads the same backward)."
   ]
  },
  {
   "cell_type": "code",
   "execution_count": 4,
   "id": "5257369b-fe80-4066-946b-d2a00278d518",
   "metadata": {},
   "outputs": [
    {
     "name": "stdout",
     "output_type": "stream",
     "text": [
      "True\n"
     ]
    }
   ],
   "source": [
    "def is_palindrome(word):\n",
    "    word = word.lower().replace(\" \", \"\")\n",
    "    return word == word[::-1]\n",
    "\n",
    "# Test\n",
    "print(is_palindrome(\"A man a plan a canal Panama\"))  # Output: True\n"
   ]
  },
  {
   "cell_type": "markdown",
   "id": "8bf8738d-772b-4433-8103-6a6d758e9218",
   "metadata": {},
   "source": [
    "5. Flatten a Nested List\n",
    "Problem: Write a function that flattens a nested list."
   ]
  },
  {
   "cell_type": "code",
   "execution_count": 5,
   "id": "b5614bf9-8081-4153-91fd-da3f74bc37d9",
   "metadata": {},
   "outputs": [
    {
     "name": "stdout",
     "output_type": "stream",
     "text": [
      "[1, 2, 3, 4, 5, 6]\n"
     ]
    }
   ],
   "source": [
    "def flatten_list(nested_list):\n",
    "    flat_list = []\n",
    "    for item in nested_list:\n",
    "        if isinstance(item, list):\n",
    "            flat_list.extend(flatten_list(item))\n",
    "        else:\n",
    "            flat_list.append(item)\n",
    "    return flat_list\n",
    "\n",
    "# Test\n",
    "print(flatten_list([1, [2, [3, 4], 5], 6]))  # Output: [1, 2, 3, 4, 5, 6]\n"
   ]
  },
  {
   "cell_type": "code",
   "execution_count": null,
   "id": "a7bb8655-0820-4e04-8431-ae210144d0c3",
   "metadata": {},
   "outputs": [],
   "source": []
  }
 ],
 "metadata": {
  "kernelspec": {
   "display_name": "Python 3 (ipykernel)",
   "language": "python",
   "name": "python3"
  },
  "language_info": {
   "codemirror_mode": {
    "name": "ipython",
    "version": 3
   },
   "file_extension": ".py",
   "mimetype": "text/x-python",
   "name": "python",
   "nbconvert_exporter": "python",
   "pygments_lexer": "ipython3",
   "version": "3.11.7"
  }
 },
 "nbformat": 4,
 "nbformat_minor": 5
}
