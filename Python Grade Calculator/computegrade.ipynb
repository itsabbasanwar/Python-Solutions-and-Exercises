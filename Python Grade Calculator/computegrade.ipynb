{
 "cells": [
  {
   "cell_type": "code",
   "execution_count": 5,
   "id": "c239f5c6-7df8-4687-ba2d-29c4a0a04e3f",
   "metadata": {},
   "outputs": [
    {
     "name": "stdin",
     "output_type": "stream",
     "text": [
      "Enter a score between 0.0 and 1.0:  no\n"
     ]
    },
    {
     "name": "stdout",
     "output_type": "stream",
     "text": [
      "Error: Please enter a numeric value.\n"
     ]
    },
    {
     "name": "stdin",
     "output_type": "stream",
     "text": [
      "Do you want to exit? (yes or no):  1\n"
     ]
    },
    {
     "name": "stdout",
     "output_type": "stream",
     "text": [
      "Please give the correct response (yes or no).\n"
     ]
    },
    {
     "name": "stdin",
     "output_type": "stream",
     "text": [
      "Do you want to exit? (yes or no):  yes\n"
     ]
    },
    {
     "name": "stdout",
     "output_type": "stream",
     "text": [
      "Exiting the program. Goodbye!\n"
     ]
    }
   ],
   "source": [
    "# Define the computegrade function\n",
    "def computegrade(score):\n",
    "    # Validate that the score is within the valid range\n",
    "    if score < 0.0 or score > 1.0:\n",
    "        return \"Error: Score out of range. Enter a value between 0.0 and 1.0\"\n",
    "    # Determine the grade based on the score\n",
    "    if score >= 0.9:\n",
    "        return \"A\"\n",
    "    elif score >= 0.8:\n",
    "        return \"B\"\n",
    "    elif score >= 0.7:\n",
    "        return \"C\"\n",
    "    elif score >= 0.6:\n",
    "        return \"D\"\n",
    "    else:\n",
    "        return \"F\"\n",
    "\n",
    "# Start a loop for the program\n",
    "while True:\n",
    "    try:\n",
    "        # Prompt the user for input\n",
    "        user_input = float(input(\"Enter a score between 0.0 and 1.0: \"))\n",
    "        # Call the computegrade function and print the grade\n",
    "        grade = computegrade(user_input)\n",
    "        print(\"Grade:\", grade)\n",
    "    except ValueError:\n",
    "        print(\"Error: Please enter a numeric value.\")\n",
    "    \n",
    "    # Ask if the user wants to exit\n",
    "    while True:\n",
    "        exit_choice = input(\"Do you want to exit? (yes or no): \").strip().lower()\n",
    "        if exit_choice == \"yes\":\n",
    "            print(\"Exiting the program. Goodbye!\")\n",
    "            break\n",
    "        elif exit_choice == \"no\":\n",
    "            break\n",
    "        else:\n",
    "            print(\"Please give the correct response (yes or no).\")\n",
    "    \n",
    "    # Break the outer loop if the user chooses to exit\n",
    "    if exit_choice == \"yes\":\n",
    "        break\n"
   ]
  },
  {
   "cell_type": "code",
   "execution_count": null,
   "id": "2a68c32f-d23e-4473-aec1-a803f8cddf51",
   "metadata": {},
   "outputs": [],
   "source": []
  }
 ],
 "metadata": {
  "kernelspec": {
   "display_name": "Python 3 (ipykernel)",
   "language": "python",
   "name": "python3"
  },
  "language_info": {
   "codemirror_mode": {
    "name": "ipython",
    "version": 3
   },
   "file_extension": ".py",
   "mimetype": "text/x-python",
   "name": "python",
   "nbconvert_exporter": "python",
   "pygments_lexer": "ipython3",
   "version": "3.11.7"
  }
 },
 "nbformat": 4,
 "nbformat_minor": 5
}
