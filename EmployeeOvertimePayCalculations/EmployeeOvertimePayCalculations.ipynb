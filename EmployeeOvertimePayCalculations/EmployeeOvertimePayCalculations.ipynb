{
 "cells": [
  {
   "cell_type": "code",
   "execution_count": 1,
   "id": "41da1c72-c9da-4ada-bb29-660ac3e99041",
   "metadata": {},
   "outputs": [
    {
     "name": "stdin",
     "output_type": "stream",
     "text": [
      "Enter Hours:  1\n",
      "Enter Rate:  1\n"
     ]
    },
    {
     "name": "stdout",
     "output_type": "stream",
     "text": [
      "Pay: 1.0\n"
     ]
    },
    {
     "name": "stdin",
     "output_type": "stream",
     "text": [
      "Do you want to continue? (yes to continue, no to exit):  no\n"
     ]
    },
    {
     "name": "stdout",
     "output_type": "stream",
     "text": [
      "Exiting the program.\n"
     ]
    }
   ],
   "source": [
    "while True:\n",
    "    try:\n",
    "        # Attempt to get user input and convert to float\n",
    "        hours = float(input(\"Enter Hours: \"))\n",
    "        rate = float(input(\"Enter Rate: \"))\n",
    "\n",
    "        # Check for negative numbers\n",
    "        if hours < 0 or rate < 0:\n",
    "            print(\"Error: Hours and Rate must be non-negative numbers.\")\n",
    "        else:\n",
    "            # Calculate the pay\n",
    "            if hours > 40:\n",
    "                # Compute overtime\n",
    "                regular_pay = 40 * rate\n",
    "                overtime_pay = (hours - 40) * (rate * 1.5)\n",
    "                total_pay = regular_pay + overtime_pay\n",
    "            else:\n",
    "                # Compute regular pay\n",
    "                total_pay = hours * rate\n",
    "\n",
    "            # Display the result\n",
    "            print(\"Pay:\", total_pay)\n",
    "\n",
    "    except ValueError:\n",
    "        # Handle the case where the input is not numeric\n",
    "        print(\"Error: Please enter numeric input.\")\n",
    "    \n",
    "    # Ask if the user wants to continue or exit\n",
    "    continue_choice = input(\"Do you want to continue? (yes to continue, no to exit): \").lower()\n",
    "    if continue_choice != 'yes':\n",
    "        print(\"Exiting the program.\")\n",
    "        break\n"
   ]
  },
  {
   "cell_type": "code",
   "execution_count": null,
   "id": "701a3a53-5862-4435-9260-4338577dbe66",
   "metadata": {},
   "outputs": [],
   "source": []
  }
 ],
 "metadata": {
  "kernelspec": {
   "display_name": "Python 3 (ipykernel)",
   "language": "python",
   "name": "python3"
  },
  "language_info": {
   "codemirror_mode": {
    "name": "ipython",
    "version": 3
   },
   "file_extension": ".py",
   "mimetype": "text/x-python",
   "name": "python",
   "nbconvert_exporter": "python",
   "pygments_lexer": "ipython3",
   "version": "3.11.7"
  }
 },
 "nbformat": 4,
 "nbformat_minor": 5
}
