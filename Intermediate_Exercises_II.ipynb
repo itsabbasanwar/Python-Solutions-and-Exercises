{
 "cells": [
  {
   "cell_type": "markdown",
   "id": "06587e6a-35e8-432b-a370-e5aec3ba087d",
   "metadata": {},
   "source": [
    "6. Count Frequency of Characters\n",
    "Problem: Write a function to count the frequency of each character in a string."
   ]
  },
  {
   "cell_type": "code",
   "execution_count": null,
   "id": "428645da-2199-43ff-8140-7419de90376b",
   "metadata": {},
   "outputs": [],
   "source": [
    "def char_frequency(string):\n",
    "    frequency = {}\n",
    "    for char in string:\n",
    "        frequency[char] = frequency.get(char, 0) + 1\n",
    "    return frequency\n",
    "\n",
    "# Test\n",
    "print(char_frequency(\"mississippi\"))  \n",
    "# Output: {'m': 1, 'i': 4, 's': 4, 'p': 2}\n",
    "def char_frequency(string):\n",
    "    frequency = {}\n",
    "    for char in string:\n",
    "        frequency[char] = frequency.get(char, 0) + 1\n",
    "    return frequency\n",
    "\n",
    "# Test\n",
    "print(char_frequency(\"mississippi\"))  \n",
    "# Output: {'m': 1, 'i': 4, 's': 4, 'p': 2}\n"
   ]
  },
  {
   "cell_type": "markdown",
   "id": "e0b18673-278e-4499-845e-b28d1d1fafdb",
   "metadata": {},
   "source": [
    "7. Fibonacci Sequence Generator\n",
    "Problem: Write a generator function to produce the Fibonacci sequence up to n terms."
   ]
  },
  {
   "cell_type": "code",
   "execution_count": null,
   "id": "21b7fa36-0d72-46ab-ad02-e34c1ddcc472",
   "metadata": {},
   "outputs": [],
   "source": [
    "def fibonacci(n):\n",
    "    a, b = 0, 1\n",
    "    for _ in range(n):\n",
    "        yield a\n",
    "        a, b = b, a + b\n",
    "\n",
    "# Test\n",
    "print(list(fibonacci(10)))  \n",
    "# Output: [0, 1, 1, 2, 3, 5, 8, 13, 21, 34]\n",
    "def fibonacci(n):\n",
    "    a, b = 0, 1\n",
    "    for _ in range(n):\n",
    "        yield a\n",
    "        a, b = b, a + b\n",
    "\n",
    "# Test\n",
    "print(list(fibonacci(10)))  \n",
    "# Output: [0, 1, 1, 2, 3, 5, 8, 13, 21, 34]\n"
   ]
  },
  {
   "cell_type": "markdown",
   "id": "9fb59636-64a4-43ea-9cdc-ec0cbd2d62a6",
   "metadata": {},
   "source": [
    "8. Sort a Dictionary by Value\n",
    "Problem: Write a function to sort a dictionary by its values."
   ]
  },
  {
   "cell_type": "code",
   "execution_count": null,
   "id": "bcfbeae0-6bd4-4494-b58a-afe070713a72",
   "metadata": {},
   "outputs": [],
   "source": [
    "def sort_dict_by_value(d):\n",
    "    return dict(sorted(d.items(), key=lambda item: item[1]))\n",
    "\n",
    "# Test\n",
    "print(sort_dict_by_value({'a': 3, 'b': 1, 'c': 2}))\n",
    "# Output: {'b': 1, 'c': 2, 'a': 3}\n"
   ]
  },
  {
   "cell_type": "markdown",
   "id": "4ece32e4-d6f7-4f8a-a21e-2083fbf5a5a9",
   "metadata": {},
   "source": [
    "9. Find Prime Numbers in a Range\n",
    "Problem: Write a function to find all prime numbers in a given range."
   ]
  }
 ],
 "metadata": {
  "kernelspec": {
   "display_name": "Python 3 (ipykernel)",
   "language": "python",
   "name": "python3"
  },
  "language_info": {
   "codemirror_mode": {
    "name": "ipython",
    "version": 3
   },
   "file_extension": ".py",
   "mimetype": "text/x-python",
   "name": "python",
   "nbconvert_exporter": "python",
   "pygments_lexer": "ipython3",
   "version": "3.11.7"
  }
 },
 "nbformat": 4,
 "nbformat_minor": 5
}
